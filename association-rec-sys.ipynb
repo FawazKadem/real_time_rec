{
 "cells": [
  {
   "cell_type": "code",
   "execution_count": 1,
   "metadata": {},
   "outputs": [],
   "source": [
    "import pandas as pd\n",
    "import numpy as np\n",
    "import jsonlines\n",
    "\n",
    "from scipy.sparse import dok_matrix, csr_matrix, lil_matrix"
   ]
  },
  {
   "cell_type": "code",
   "execution_count": 2,
   "metadata": {},
   "outputs": [
    {
     "data": {
      "text/html": [
       "<div>\n",
       "<style scoped>\n",
       "    .dataframe tbody tr th:only-of-type {\n",
       "        vertical-align: middle;\n",
       "    }\n",
       "\n",
       "    .dataframe tbody tr th {\n",
       "        vertical-align: top;\n",
       "    }\n",
       "\n",
       "    .dataframe thead th {\n",
       "        text-align: right;\n",
       "    }\n",
       "</style>\n",
       "<table border=\"1\" class=\"dataframe\">\n",
       "  <thead>\n",
       "    <tr style=\"text-align: right;\">\n",
       "      <th></th>\n",
       "      <th>code</th>\n",
       "      <th>name</th>\n",
       "    </tr>\n",
       "  </thead>\n",
       "  <tbody>\n",
       "    <tr>\n",
       "      <th>0</th>\n",
       "      <td>M02</td>\n",
       "      <td>Produce</td>\n",
       "    </tr>\n",
       "    <tr>\n",
       "      <th>1</th>\n",
       "      <td>M0227</td>\n",
       "      <td>Produce</td>\n",
       "    </tr>\n",
       "    <tr>\n",
       "      <th>2</th>\n",
       "      <td>M022701</td>\n",
       "      <td>Fruit</td>\n",
       "    </tr>\n",
       "    <tr>\n",
       "      <th>3</th>\n",
       "      <td>M02270101</td>\n",
       "      <td>Apples</td>\n",
       "    </tr>\n",
       "    <tr>\n",
       "      <th>4</th>\n",
       "      <td>M02270102</td>\n",
       "      <td>Bananas</td>\n",
       "    </tr>\n",
       "  </tbody>\n",
       "</table>\n",
       "</div>"
      ],
      "text/plain": [
       "        code     name\n",
       "0        M02  Produce\n",
       "1      M0227  Produce\n",
       "2    M022701    Fruit\n",
       "3  M02270101   Apples\n",
       "4  M02270102  Bananas"
      ]
     },
     "execution_count": 2,
     "metadata": {},
     "output_type": "execute_result"
    }
   ],
   "source": [
    "MCH = pd.read_csv('mch_categories.tsv', sep=\"\\t\")\n",
    "MCH.head()"
   ]
  },
  {
   "cell_type": "code",
   "execution_count": 3,
   "metadata": {},
   "outputs": [],
   "source": [
    "MCH7 = pd.DataFrame(columns=['category_code', 'category_name'])\n",
    "row = 0\n",
    "\n",
    "for i in MCH.index:\n",
    "    if len(MCH.at[i, 'code']) == 7:\n",
    "        MCH7.loc[row] = [MCH.at[i, 'code'], MCH.at[i, 'name'].replace('Z_DNU ', '')]\n",
    "        row += 1"
   ]
  },
  {
   "cell_type": "code",
   "execution_count": 4,
   "metadata": {},
   "outputs": [
    {
     "data": {
      "text/html": [
       "<div>\n",
       "<style scoped>\n",
       "    .dataframe tbody tr th:only-of-type {\n",
       "        vertical-align: middle;\n",
       "    }\n",
       "\n",
       "    .dataframe tbody tr th {\n",
       "        vertical-align: top;\n",
       "    }\n",
       "\n",
       "    .dataframe thead th {\n",
       "        text-align: right;\n",
       "    }\n",
       "</style>\n",
       "<table border=\"1\" class=\"dataframe\">\n",
       "  <thead>\n",
       "    <tr style=\"text-align: right;\">\n",
       "      <th></th>\n",
       "      <th>category_code</th>\n",
       "      <th>category_name</th>\n",
       "    </tr>\n",
       "  </thead>\n",
       "  <tbody>\n",
       "    <tr>\n",
       "      <th>0</th>\n",
       "      <td>M022701</td>\n",
       "      <td>Fruit</td>\n",
       "    </tr>\n",
       "    <tr>\n",
       "      <th>1</th>\n",
       "      <td>M022702</td>\n",
       "      <td>Hard Goods</td>\n",
       "    </tr>\n",
       "    <tr>\n",
       "      <th>2</th>\n",
       "      <td>M022703</td>\n",
       "      <td>Vegetables</td>\n",
       "    </tr>\n",
       "    <tr>\n",
       "      <th>3</th>\n",
       "      <td>M022705</td>\n",
       "      <td>Other</td>\n",
       "    </tr>\n",
       "    <tr>\n",
       "      <th>4</th>\n",
       "      <td>M022801</td>\n",
       "      <td>Salad Bar</td>\n",
       "    </tr>\n",
       "    <tr>\n",
       "      <th>5</th>\n",
       "      <td>M033101</td>\n",
       "      <td>Processed</td>\n",
       "    </tr>\n",
       "    <tr>\n",
       "      <th>6</th>\n",
       "      <td>M033102</td>\n",
       "      <td>Frozen Boxed Meat</td>\n",
       "    </tr>\n",
       "    <tr>\n",
       "      <th>7</th>\n",
       "      <td>M033103</td>\n",
       "      <td>Fresh Beef</td>\n",
       "    </tr>\n",
       "    <tr>\n",
       "      <th>8</th>\n",
       "      <td>M033104</td>\n",
       "      <td>Fresh-Lamb/Veal/Sausage</td>\n",
       "    </tr>\n",
       "    <tr>\n",
       "      <th>9</th>\n",
       "      <td>M033105</td>\n",
       "      <td>Other</td>\n",
       "    </tr>\n",
       "  </tbody>\n",
       "</table>\n",
       "</div>"
      ],
      "text/plain": [
       "  category_code            category_name\n",
       "0       M022701                    Fruit\n",
       "1       M022702               Hard Goods\n",
       "2       M022703               Vegetables\n",
       "3       M022705                    Other\n",
       "4       M022801                Salad Bar\n",
       "5       M033101                Processed\n",
       "6       M033102        Frozen Boxed Meat\n",
       "7       M033103               Fresh Beef\n",
       "8       M033104  Fresh-Lamb/Veal/Sausage\n",
       "9       M033105                    Other"
      ]
     },
     "execution_count": 4,
     "metadata": {},
     "output_type": "execute_result"
    }
   ],
   "source": [
    "# they are not all food items though\n",
    "MCH7.head(10)"
   ]
  },
  {
   "cell_type": "code",
   "execution_count": 5,
   "metadata": {},
   "outputs": [],
   "source": [
    "# should label the product names\n",
    "PRODUCTS = pd.read_csv('products.txt', sep=\"\\t\", names=['product_code', 'mch', 'product_name'])\n",
    "\n",
    "# mapping product code to index, and from index to name/categories\n",
    "code_to_index = dict(zip(PRODUCTS['product_code'], range(len(PRODUCTS))))\n",
    "index_to_name = dict(zip(range(len(PRODUCTS)), PRODUCTS['product_name']))\n",
    "index_to_mch = dict(zip(range(len(PRODUCTS)), PRODUCTS['mch']))"
   ]
  },
  {
   "cell_type": "code",
   "execution_count": 6,
   "metadata": {},
   "outputs": [
    {
     "data": {
      "text/html": [
       "<div>\n",
       "<style scoped>\n",
       "    .dataframe tbody tr th:only-of-type {\n",
       "        vertical-align: middle;\n",
       "    }\n",
       "\n",
       "    .dataframe tbody tr th {\n",
       "        vertical-align: top;\n",
       "    }\n",
       "\n",
       "    .dataframe thead th {\n",
       "        text-align: right;\n",
       "    }\n",
       "</style>\n",
       "<table border=\"1\" class=\"dataframe\">\n",
       "  <thead>\n",
       "    <tr style=\"text-align: right;\">\n",
       "      <th></th>\n",
       "      <th>product_code</th>\n",
       "      <th>mch</th>\n",
       "      <th>product_name</th>\n",
       "    </tr>\n",
       "  </thead>\n",
       "  <tbody>\n",
       "    <tr>\n",
       "      <th>0</th>\n",
       "      <td>20000002_EA</td>\n",
       "      <td>M10210701</td>\n",
       "      <td>Tuna Chunks in Broth</td>\n",
       "    </tr>\n",
       "    <tr>\n",
       "      <th>1</th>\n",
       "      <td>20000005_EA</td>\n",
       "      <td>M02270201</td>\n",
       "      <td>Fresh-Pressed Sweet Apple Cider</td>\n",
       "    </tr>\n",
       "    <tr>\n",
       "      <th>2</th>\n",
       "      <td>20000053_EA</td>\n",
       "      <td>M10210901</td>\n",
       "      <td>French Dijon Mustard</td>\n",
       "    </tr>\n",
       "    <tr>\n",
       "      <th>3</th>\n",
       "      <td>20000056001_KG</td>\n",
       "      <td>M02270304</td>\n",
       "      <td>Anaheim Peppers</td>\n",
       "    </tr>\n",
       "    <tr>\n",
       "      <th>4</th>\n",
       "      <td>20000068_KG</td>\n",
       "      <td>M05350101</td>\n",
       "      <td>Swiss Cheese</td>\n",
       "    </tr>\n",
       "  </tbody>\n",
       "</table>\n",
       "</div>"
      ],
      "text/plain": [
       "     product_code        mch                     product_name\n",
       "0     20000002_EA  M10210701             Tuna Chunks in Broth\n",
       "1     20000005_EA  M02270201  Fresh-Pressed Sweet Apple Cider\n",
       "2     20000053_EA  M10210901             French Dijon Mustard\n",
       "3  20000056001_KG  M02270304                  Anaheim Peppers\n",
       "4     20000068_KG  M05350101                     Swiss Cheese"
      ]
     },
     "execution_count": 6,
     "metadata": {},
     "output_type": "execute_result"
    }
   ],
   "source": [
    "PRODUCTS.head()"
   ]
  },
  {
   "cell_type": "code",
   "execution_count": 54,
   "metadata": {},
   "outputs": [],
   "source": [
    "# read part of the transactions.txt file\n",
    "# using only a few demo products\n",
    "test_product_codes = ['20330687001_EA', '20309646001_EA', '20666167007_EA']\n",
    "\n",
    "test_list = [] # list of receipts which contain some of our test products\n",
    "count = 0\n",
    "with jsonlines.open('transactions.txt') as reader:\n",
    "    for transaction in reader: # for each row/transaction\n",
    "        count += 1\n",
    "        for obj in transaction['itemList']:\n",
    "            if obj['item'] in test_product_codes: # if i find any one of them from the product list\n",
    "                test_list.append(transaction['itemList'])\n",
    "                break\n",
    "\n",
    "num_transactions = len(test_list)"
   ]
  },
  {
   "cell_type": "code",
   "execution_count": 57,
   "metadata": {},
   "outputs": [],
   "source": [
    "# co-occurence from test_list receipts\n",
    "# sparse matrix\n",
    "conf_matrix = dok_matrix((len(PRODUCTS), len(PRODUCTS)), dtype=np.int16)"
   ]
  },
  {
   "cell_type": "code",
   "execution_count": 58,
   "metadata": {},
   "outputs": [],
   "source": [
    "for transaction in test_list:\n",
    "    for i in range(0, len(transaction)):\n",
    "        key1 = code_to_index[transaction[i]['item']]\n",
    "        \n",
    "        for j in range(i+1, len(transaction)):\n",
    "            key2 = code_to_index[transaction[j]['item']]\n",
    "        \n",
    "            conf_matrix[key1, key2] += 1\n",
    "            conf_matrix[key2, key1] += 1"
   ]
  },
  {
   "cell_type": "code",
   "execution_count": 59,
   "metadata": {},
   "outputs": [],
   "source": [
    "trans_vec = lil_matrix((1, len(PRODUCTS)), dtype = np.float32)\n",
    "\n",
    "for transaction in test_list:\n",
    "    for i in range(0, len(transaction)):\n",
    "        key = code_to_index[transaction[i]['item']]\n",
    "        trans_vec[0, key] += 1"
   ]
  },
  {
   "cell_type": "code",
   "execution_count": null,
   "metadata": {},
   "outputs": [],
   "source": [
    "# calculate lift matrix\n",
    "lift_matrix = csr_matrix((len(PRODUCTS), len(PRODUCTS)), dtype=np.float64)"
   ]
  },
  {
   "cell_type": "code",
   "execution_count": null,
   "metadata": {},
   "outputs": [],
   "source": [
    "# split the hierarchy categories\n",
    "# from the most general product type to most specific\n",
    "hierarchy_dict = {}\n",
    "for code in MCH['code']:\n",
    "    if len(code) not in hierarchy_dict:\n",
    "        hierarchy_dict[len(code)] = []\n",
    "        hierarchy_dict[len(code)].append(code)\n",
    "    else:\n",
    "        hierarchy_dict[len(code)].append(code)"
   ]
  },
  {
   "cell_type": "code",
   "execution_count": null,
   "metadata": {},
   "outputs": [],
   "source": [
    "# one-hot encode the hierarchy features for each item\n",
    "# calculate a cosine similarity as penalty for items belonging to different categories\n",
    "def category_penalty(i, j, hierarchy, products):\n",
    "    vec1 = get_row(i, hierarchy, products)\n",
    "    vec2 = get_row(j, hierarchy, products)\n",
    "\n",
    "    if np.linalg.norm(vec1) != 0 and np.linalg.norm(vec2) != 0:\n",
    "        return np.dot(vec1, vec2) / (np.linalg.norm(vec1)*np.linalg.norm(vec2))\n",
    "    else:\n",
    "        return 0\n",
    "    \n",
    "def get_row(i, hierarchy, products):\n",
    "    cols = hierarchy[3]+hierarchy[5]+hierarchy[7]+hierarchy[9]\n",
    "    row_vec = [0]*len(cols) \n",
    "\n",
    "    mch = products.at[i, 'mch']\n",
    "\n",
    "    id1, id2, id3, id4 = [-1, -1, -1, -1]\n",
    "\n",
    "    if mch[:3] in hierarchy_dict[3]:\n",
    "        id1 = hierarchy_dict[3].index(mch[:3])\n",
    "    \n",
    "    if mch[:5] in hierarchy_dict[5]:\n",
    "        id2 = hierarchy_dict[5].index(mch[:5])\n",
    "        \n",
    "    if mch[:7] in hierarchy_dict[7]:\n",
    "        id3 = hierarchy_dict[7].index(mch[:7])\n",
    "    \n",
    "    if mch[:] in hierarchy_dict[9]:\n",
    "        id4 = hierarchy_dict[9].index(mch[:])\n",
    "\n",
    "    if id1 > -1 and id2 > -1 and id3 > -1 and id4 > -1:\n",
    "        row_vec[id1] = 1\n",
    "        row_vec[len(hierarchy_dict[3]) + id2] = 1\n",
    "        row_vec[len(hierarchy_dict[3])+len(hierarchy_dict[5])+id3] = 1\n",
    "        row_vec[len(hierarchy_dict[3])+len(hierarchy_dict[5])+len(hierarchy_dict[7])+id4] = 1\n",
    "\n",
    "    return row_vec"
   ]
  },
  {
   "cell_type": "code",
   "execution_count": null,
   "metadata": {},
   "outputs": [
    {
     "name": "stdout",
     "output_type": "stream",
     "text": [
      "1259460\n"
     ]
    }
   ],
   "source": [
    "row, col = conf_matrix.nonzero()\n",
    "print(len(row))\n",
    "\n",
    "for i, j in zip(row, col):\n",
    "    if trans_vec[0, i] > 0 and  trans_vec[0, j] > 0:\n",
    "        lift_matrix[i, j] = conf_matrix[i, j] * category_penalty(i, j, hierarchy_dict, PRODUCTS) / (trans_vec[0, i] * trans_vec[0, j])"
   ]
  },
  {
   "cell_type": "code",
   "execution_count": null,
   "metadata": {},
   "outputs": [],
   "source": [
    "# get some outputs for the demo products\n",
    "for code in test_product_codes:\n",
    "    ix = code_to_index[code]\n",
    "  \n",
    "    row = conf_matrix.getrow(ix).toarray()\n",
    "    j = np.where(row==row.max())[1]\n",
    "  \n",
    "    print(\"test product = \", index_to_name[ix])\n",
    "    print(\"recommendation = \", index_to_name[j[0]])"
   ]
  },
  {
   "cell_type": "code",
   "execution_count": null,
   "metadata": {},
   "outputs": [],
   "source": [
    "# get the top k indices, save this list of list as output for the model\n",
    "def top_k_idx_sparse(matrix, k):\n",
    "    top_k_idx = []\n",
    "    for le, ri in zip(matrix.indptr[:-1], matrix.indptr[1:]):\n",
    "        k_picks = min(k, ri - le)\n",
    "        top_k_idx.append(matrix.indices[le + np.argpartition(matrix.data[le:ri], -k_picks)[-k_picks:]])\n",
    "    return top_k_idx"
   ]
  },
  {
   "cell_type": "code",
   "execution_count": null,
   "metadata": {},
   "outputs": [],
   "source": []
  }
 ],
 "metadata": {
  "kernelspec": {
   "display_name": "Python 3",
   "language": "python",
   "name": "python3"
  },
  "language_info": {
   "codemirror_mode": {
    "name": "ipython",
    "version": 3
   },
   "file_extension": ".py",
   "mimetype": "text/x-python",
   "name": "python",
   "nbconvert_exporter": "python",
   "pygments_lexer": "ipython3",
   "version": "3.6.7"
  }
 },
 "nbformat": 4,
 "nbformat_minor": 2
}
